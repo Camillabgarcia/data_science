{
  "nbformat": 4,
  "nbformat_minor": 0,
  "metadata": {
    "colab": {
      "provenance": [],
      "authorship_tag": "ABX9TyOaZP/891PJZMbaQZRNeWn+",
      "include_colab_link": true
    },
    "kernelspec": {
      "name": "python3",
      "display_name": "Python 3"
    },
    "language_info": {
      "name": "python"
    }
  },
  "cells": [
    {
      "cell_type": "markdown",
      "metadata": {
        "id": "view-in-github",
        "colab_type": "text"
      },
      "source": [
        "<a href=\"https://colab.research.google.com/github/Camillabgarcia/data_science/blob/main/Testando_hipoteses.ipynb\" target=\"_parent\"><img src=\"https://colab.research.google.com/assets/colab-badge.svg\" alt=\"Open In Colab\"/></a>"
      ]
    },
    {
      "cell_type": "code",
      "execution_count": 1,
      "metadata": {
        "id": "pzz5AjU4-dvj"
      },
      "outputs": [],
      "source": [
        "# carregando bibliotecas\n",
        "import numpy as np\n",
        "import pandas as pd\n",
        "import matplotlib.pyplot as plt"
      ]
    },
    {
      "cell_type": "code",
      "source": [
        "#Leitura dos dados\n",
        "\n",
        "# idade de aponsentadoria\n",
        "dados_idade_aposentadoria = pd.read_csv(\"/content/dados_idade_aposentadoria.csv\")\n",
        "\n",
        "# Tempo de Vida de uma Lâmpada\n",
        "dados_vida_lampada = pd.read_csv(\"/content/dados_vida_lampada.csv\")\n",
        "\n",
        "# Altura dos funcionarios\n",
        "dados_alturas = pd.read_csv(\"/content/dados_alturas.csv\")"
      ],
      "metadata": {
        "id": "E73TkRMQAGKP"
      },
      "execution_count": 2,
      "outputs": []
    },
    {
      "cell_type": "code",
      "source": [
        "dados_alturas.head()"
      ],
      "metadata": {
        "colab": {
          "base_uri": "https://localhost:8080/",
          "height": 206
        },
        "id": "wyghtjYH6MqU",
        "outputId": "14bca371-5e9b-4bd3-cbcf-594795cf7902"
      },
      "execution_count": 3,
      "outputs": [
        {
          "output_type": "execute_result",
          "data": {
            "text/plain": [
              "   alturas\n",
              "0   167.52\n",
              "1   185.21\n",
              "2   172.74\n",
              "3   171.52\n",
              "4   157.75"
            ],
            "text/html": [
              "\n",
              "  <div id=\"df-3725b88e-a9b9-4d42-9cdc-9feb1c302ef6\" class=\"colab-df-container\">\n",
              "    <div>\n",
              "<style scoped>\n",
              "    .dataframe tbody tr th:only-of-type {\n",
              "        vertical-align: middle;\n",
              "    }\n",
              "\n",
              "    .dataframe tbody tr th {\n",
              "        vertical-align: top;\n",
              "    }\n",
              "\n",
              "    .dataframe thead th {\n",
              "        text-align: right;\n",
              "    }\n",
              "</style>\n",
              "<table border=\"1\" class=\"dataframe\">\n",
              "  <thead>\n",
              "    <tr style=\"text-align: right;\">\n",
              "      <th></th>\n",
              "      <th>alturas</th>\n",
              "    </tr>\n",
              "  </thead>\n",
              "  <tbody>\n",
              "    <tr>\n",
              "      <th>0</th>\n",
              "      <td>167.52</td>\n",
              "    </tr>\n",
              "    <tr>\n",
              "      <th>1</th>\n",
              "      <td>185.21</td>\n",
              "    </tr>\n",
              "    <tr>\n",
              "      <th>2</th>\n",
              "      <td>172.74</td>\n",
              "    </tr>\n",
              "    <tr>\n",
              "      <th>3</th>\n",
              "      <td>171.52</td>\n",
              "    </tr>\n",
              "    <tr>\n",
              "      <th>4</th>\n",
              "      <td>157.75</td>\n",
              "    </tr>\n",
              "  </tbody>\n",
              "</table>\n",
              "</div>\n",
              "    <div class=\"colab-df-buttons\">\n",
              "\n",
              "  <div class=\"colab-df-container\">\n",
              "    <button class=\"colab-df-convert\" onclick=\"convertToInteractive('df-3725b88e-a9b9-4d42-9cdc-9feb1c302ef6')\"\n",
              "            title=\"Convert this dataframe to an interactive table.\"\n",
              "            style=\"display:none;\">\n",
              "\n",
              "  <svg xmlns=\"http://www.w3.org/2000/svg\" height=\"24px\" viewBox=\"0 -960 960 960\">\n",
              "    <path d=\"M120-120v-720h720v720H120Zm60-500h600v-160H180v160Zm220 220h160v-160H400v160Zm0 220h160v-160H400v160ZM180-400h160v-160H180v160Zm440 0h160v-160H620v160ZM180-180h160v-160H180v160Zm440 0h160v-160H620v160Z\"/>\n",
              "  </svg>\n",
              "    </button>\n",
              "\n",
              "  <style>\n",
              "    .colab-df-container {\n",
              "      display:flex;\n",
              "      gap: 12px;\n",
              "    }\n",
              "\n",
              "    .colab-df-convert {\n",
              "      background-color: #E8F0FE;\n",
              "      border: none;\n",
              "      border-radius: 50%;\n",
              "      cursor: pointer;\n",
              "      display: none;\n",
              "      fill: #1967D2;\n",
              "      height: 32px;\n",
              "      padding: 0 0 0 0;\n",
              "      width: 32px;\n",
              "    }\n",
              "\n",
              "    .colab-df-convert:hover {\n",
              "      background-color: #E2EBFA;\n",
              "      box-shadow: 0px 1px 2px rgba(60, 64, 67, 0.3), 0px 1px 3px 1px rgba(60, 64, 67, 0.15);\n",
              "      fill: #174EA6;\n",
              "    }\n",
              "\n",
              "    .colab-df-buttons div {\n",
              "      margin-bottom: 4px;\n",
              "    }\n",
              "\n",
              "    [theme=dark] .colab-df-convert {\n",
              "      background-color: #3B4455;\n",
              "      fill: #D2E3FC;\n",
              "    }\n",
              "\n",
              "    [theme=dark] .colab-df-convert:hover {\n",
              "      background-color: #434B5C;\n",
              "      box-shadow: 0px 1px 3px 1px rgba(0, 0, 0, 0.15);\n",
              "      filter: drop-shadow(0px 1px 2px rgba(0, 0, 0, 0.3));\n",
              "      fill: #FFFFFF;\n",
              "    }\n",
              "  </style>\n",
              "\n",
              "    <script>\n",
              "      const buttonEl =\n",
              "        document.querySelector('#df-3725b88e-a9b9-4d42-9cdc-9feb1c302ef6 button.colab-df-convert');\n",
              "      buttonEl.style.display =\n",
              "        google.colab.kernel.accessAllowed ? 'block' : 'none';\n",
              "\n",
              "      async function convertToInteractive(key) {\n",
              "        const element = document.querySelector('#df-3725b88e-a9b9-4d42-9cdc-9feb1c302ef6');\n",
              "        const dataTable =\n",
              "          await google.colab.kernel.invokeFunction('convertToInteractive',\n",
              "                                                    [key], {});\n",
              "        if (!dataTable) return;\n",
              "\n",
              "        const docLinkHtml = 'Like what you see? Visit the ' +\n",
              "          '<a target=\"_blank\" href=https://colab.research.google.com/notebooks/data_table.ipynb>data table notebook</a>'\n",
              "          + ' to learn more about interactive tables.';\n",
              "        element.innerHTML = '';\n",
              "        dataTable['output_type'] = 'display_data';\n",
              "        await google.colab.output.renderOutput(dataTable, element);\n",
              "        const docLink = document.createElement('div');\n",
              "        docLink.innerHTML = docLinkHtml;\n",
              "        element.appendChild(docLink);\n",
              "      }\n",
              "    </script>\n",
              "  </div>\n",
              "\n",
              "\n",
              "    <div id=\"df-af0e6ea4-ff61-4fbc-a671-08d8c52fbb5f\">\n",
              "      <button class=\"colab-df-quickchart\" onclick=\"quickchart('df-af0e6ea4-ff61-4fbc-a671-08d8c52fbb5f')\"\n",
              "                title=\"Suggest charts\"\n",
              "                style=\"display:none;\">\n",
              "\n",
              "<svg xmlns=\"http://www.w3.org/2000/svg\" height=\"24px\"viewBox=\"0 0 24 24\"\n",
              "     width=\"24px\">\n",
              "    <g>\n",
              "        <path d=\"M19 3H5c-1.1 0-2 .9-2 2v14c0 1.1.9 2 2 2h14c1.1 0 2-.9 2-2V5c0-1.1-.9-2-2-2zM9 17H7v-7h2v7zm4 0h-2V7h2v10zm4 0h-2v-4h2v4z\"/>\n",
              "    </g>\n",
              "</svg>\n",
              "      </button>\n",
              "\n",
              "<style>\n",
              "  .colab-df-quickchart {\n",
              "      --bg-color: #E8F0FE;\n",
              "      --fill-color: #1967D2;\n",
              "      --hover-bg-color: #E2EBFA;\n",
              "      --hover-fill-color: #174EA6;\n",
              "      --disabled-fill-color: #AAA;\n",
              "      --disabled-bg-color: #DDD;\n",
              "  }\n",
              "\n",
              "  [theme=dark] .colab-df-quickchart {\n",
              "      --bg-color: #3B4455;\n",
              "      --fill-color: #D2E3FC;\n",
              "      --hover-bg-color: #434B5C;\n",
              "      --hover-fill-color: #FFFFFF;\n",
              "      --disabled-bg-color: #3B4455;\n",
              "      --disabled-fill-color: #666;\n",
              "  }\n",
              "\n",
              "  .colab-df-quickchart {\n",
              "    background-color: var(--bg-color);\n",
              "    border: none;\n",
              "    border-radius: 50%;\n",
              "    cursor: pointer;\n",
              "    display: none;\n",
              "    fill: var(--fill-color);\n",
              "    height: 32px;\n",
              "    padding: 0;\n",
              "    width: 32px;\n",
              "  }\n",
              "\n",
              "  .colab-df-quickchart:hover {\n",
              "    background-color: var(--hover-bg-color);\n",
              "    box-shadow: 0 1px 2px rgba(60, 64, 67, 0.3), 0 1px 3px 1px rgba(60, 64, 67, 0.15);\n",
              "    fill: var(--button-hover-fill-color);\n",
              "  }\n",
              "\n",
              "  .colab-df-quickchart-complete:disabled,\n",
              "  .colab-df-quickchart-complete:disabled:hover {\n",
              "    background-color: var(--disabled-bg-color);\n",
              "    fill: var(--disabled-fill-color);\n",
              "    box-shadow: none;\n",
              "  }\n",
              "\n",
              "  .colab-df-spinner {\n",
              "    border: 2px solid var(--fill-color);\n",
              "    border-color: transparent;\n",
              "    border-bottom-color: var(--fill-color);\n",
              "    animation:\n",
              "      spin 1s steps(1) infinite;\n",
              "  }\n",
              "\n",
              "  @keyframes spin {\n",
              "    0% {\n",
              "      border-color: transparent;\n",
              "      border-bottom-color: var(--fill-color);\n",
              "      border-left-color: var(--fill-color);\n",
              "    }\n",
              "    20% {\n",
              "      border-color: transparent;\n",
              "      border-left-color: var(--fill-color);\n",
              "      border-top-color: var(--fill-color);\n",
              "    }\n",
              "    30% {\n",
              "      border-color: transparent;\n",
              "      border-left-color: var(--fill-color);\n",
              "      border-top-color: var(--fill-color);\n",
              "      border-right-color: var(--fill-color);\n",
              "    }\n",
              "    40% {\n",
              "      border-color: transparent;\n",
              "      border-right-color: var(--fill-color);\n",
              "      border-top-color: var(--fill-color);\n",
              "    }\n",
              "    60% {\n",
              "      border-color: transparent;\n",
              "      border-right-color: var(--fill-color);\n",
              "    }\n",
              "    80% {\n",
              "      border-color: transparent;\n",
              "      border-right-color: var(--fill-color);\n",
              "      border-bottom-color: var(--fill-color);\n",
              "    }\n",
              "    90% {\n",
              "      border-color: transparent;\n",
              "      border-bottom-color: var(--fill-color);\n",
              "    }\n",
              "  }\n",
              "</style>\n",
              "\n",
              "      <script>\n",
              "        async function quickchart(key) {\n",
              "          const quickchartButtonEl =\n",
              "            document.querySelector('#' + key + ' button');\n",
              "          quickchartButtonEl.disabled = true;  // To prevent multiple clicks.\n",
              "          quickchartButtonEl.classList.add('colab-df-spinner');\n",
              "          try {\n",
              "            const charts = await google.colab.kernel.invokeFunction(\n",
              "                'suggestCharts', [key], {});\n",
              "          } catch (error) {\n",
              "            console.error('Error during call to suggestCharts:', error);\n",
              "          }\n",
              "          quickchartButtonEl.classList.remove('colab-df-spinner');\n",
              "          quickchartButtonEl.classList.add('colab-df-quickchart-complete');\n",
              "        }\n",
              "        (() => {\n",
              "          let quickchartButtonEl =\n",
              "            document.querySelector('#df-af0e6ea4-ff61-4fbc-a671-08d8c52fbb5f button');\n",
              "          quickchartButtonEl.style.display =\n",
              "            google.colab.kernel.accessAllowed ? 'block' : 'none';\n",
              "        })();\n",
              "      </script>\n",
              "    </div>\n",
              "\n",
              "    </div>\n",
              "  </div>\n"
            ],
            "application/vnd.google.colaboratory.intrinsic+json": {
              "type": "dataframe",
              "variable_name": "dados_alturas",
              "summary": "{\n  \"name\": \"dados_alturas\",\n  \"rows\": 1000,\n  \"fields\": [\n    {\n      \"column\": \"alturas\",\n      \"properties\": {\n        \"dtype\": \"number\",\n        \"std\": 10.238369585210494,\n        \"min\": 139.8,\n        \"max\": 199.46,\n        \"num_unique_values\": 882,\n        \"samples\": [\n          168.36,\n          166.41,\n          161.68\n        ],\n        \"semantic_type\": \"\",\n        \"description\": \"\"\n      }\n    }\n  ]\n}"
            }
          },
          "metadata": {},
          "execution_count": 3
        }
      ]
    },
    {
      "cell_type": "code",
      "source": [
        "# Várias distribuições\n",
        "plt.subplots(figsize=(20, 5))\n",
        "plt.subplot(131)\n",
        "plt.title('Distribuição de Idade de Aposentadoria')\n",
        "plt.xlabel('Idade de Aposentadoria')\n",
        "plt.ylabel('Frequência')\n",
        "plt.hist(dados_idade_aposentadoria, bins=30, alpha=0.7, color='blue')\n",
        "\n",
        "plt.subplot(132)\n",
        "plt.hist(dados_vida_lampada, bins=30, alpha=0.7, color='purple')\n",
        "plt.title('Tempo de Vida de uma Lâmpada')\n",
        "plt.xlabel('Tempo de Vida (horas)')\n",
        "\n",
        "plt.subplot(133)\n",
        "plt.hist(dados_alturas, bins=30, alpha=0.7, color='green')\n",
        "plt.title('Alturas dos Funcionários')\n",
        "plt.xlabel('Altura (cm)')\n",
        "\n",
        "plt.show()"
      ],
      "metadata": {
        "colab": {
          "base_uri": "https://localhost:8080/",
          "height": 488
        },
        "id": "iCAllZiBAGIM",
        "outputId": "31a66722-2071-441f-bde6-1b8d77fec9cf"
      },
      "execution_count": 4,
      "outputs": [
        {
          "output_type": "display_data",
          "data": {
            "text/plain": [
              "<Figure size 2000x500 with 4 Axes>"
            ],
            "image/png": "[encoded data removed]"
          },
          "metadata": {}
        }
      ]
    },
    {
      "cell_type": "markdown",
      "source": [
        "Reamostragem de dados de uma indústria de lâmpadas:\n"
      ],
      "metadata": {
        "id": "H9u4v4LoCf8F"
      }
    },
    {
      "cell_type": "code",
      "source": [
        "from os import replace\n",
        "#Tamanho de amostra de cada\n",
        "n = 100\n",
        "\n",
        "#Quantidade de amostras\n",
        "qtd = 1000\n",
        "\n",
        "#Função de reamostragem e cálculo de médias\n",
        "def reamostragem_medias(dados, coluna, n, qtd):\n",
        "  medias = [dados[coluna].sample(n, replace=True).mean()for _ in range(qtd)]\n",
        "  return medias"
      ],
      "metadata": {
        "id": "pPQBF5hlAGGZ"
      },
      "execution_count": 5,
      "outputs": []
    },
    {
      "cell_type": "markdown",
      "source": [
        "Aplicando a função em cada distribuição:"
      ],
      "metadata": {
        "id": "qfd816KlESq1"
      }
    },
    {
      "cell_type": "code",
      "source": [
        "media_idade = reamostragem_medias(dados_idade_aposentadoria, 'idade', n, qtd)\n",
        "media_duracao = reamostragem_medias(dados_vida_lampada, 'duracao', n, qtd)\n",
        "media_altura = reamostragem_medias(dados_alturas, 'alturas', n, qtd)"
      ],
      "metadata": {
        "id": "pxhMfLJ7AGEV"
      },
      "execution_count": 6,
      "outputs": []
    },
    {
      "cell_type": "markdown",
      "source": [
        "Médias das distribuições originais:"
      ],
      "metadata": {
        "id": "IHEFPxWH5m91"
      }
    },
    {
      "cell_type": "code",
      "source": [
        "print('idade', dados_idade_aposentadoria['idade'].mean())\n",
        "print('duracao', dados_vida_lampada['duracao'].mean())\n",
        "print('alturas', dados_alturas['alturas'].mean())"
      ],
      "metadata": {
        "colab": {
          "base_uri": "https://localhost:8080/"
        },
        "id": "TZqZic3UAGCf",
        "outputId": "2e38cf16-718a-4059-9445-7a6c0dd3e0fe"
      },
      "execution_count": 7,
      "outputs": [
        {
          "output_type": "stream",
          "name": "stdout",
          "text": [
            "idade 62.70857142857143\n",
            "duracao 1731.8036029420002\n",
            "alturas 169.52022\n"
          ]
        }
      ]
    },
    {
      "cell_type": "markdown",
      "source": [
        "Médias Amostrais:"
      ],
      "metadata": {
        "id": "ujnRuj7G7wN2"
      }
    },
    {
      "cell_type": "code",
      "source": [
        "def Average(lst):\n",
        "  return sum(lst) / len(lst)\n",
        "\n",
        "print('idade', Average(media_idade))\n",
        "print('duracao', Average(media_duracao))\n",
        "print('altura', Average(media_altura))"
      ],
      "metadata": {
        "colab": {
          "base_uri": "https://localhost:8080/"
        },
        "id": "oaXWkTTJ7x6N",
        "outputId": "ca38533b-ce43-4565-ef78-5fedc641ece1"
      },
      "execution_count": 8,
      "outputs": [
        {
          "output_type": "stream",
          "name": "stdout",
          "text": [
            "idade 62.76555999999999\n",
            "duracao 1738.8570998866091\n",
            "altura 169.42574510000014\n"
          ]
        }
      ]
    },
    {
      "cell_type": "markdown",
      "source": [
        "Distribuição das médias com subplots:"
      ],
      "metadata": {
        "id": "C6lGsKbo92qk"
      }
    },
    {
      "cell_type": "code",
      "source": [
        "plt.subplots(figsize=(15, 5))\n",
        "plt.subplot(131)\n",
        "plt.title('Distribuição das Idade médias de Aposentadoria')\n",
        "plt.xlabel('Idade média de Aposentadoria')\n",
        "plt.ylabel('Frequência')\n",
        "plt.hist(media_idade, bins=30, alpha=0.7, color='blue')\n",
        "\n",
        "plt.subplot(132)\n",
        "plt.hist(media_duracao, bins=30, alpha=0.7, color='purple')\n",
        "plt.title('Duração média de uma Lâmpada')\n",
        "plt.xlabel('Tempo de Vida médio(horas)')\n",
        "\n",
        "plt.subplot(133)\n",
        "plt.hist(media_altura, bins=30, alpha=0.7, color='green')\n",
        "plt.title('Alturas média dos Funcionários')\n",
        "plt.xlabel('Altura média (cm)')\n",
        "\n",
        "plt.show()"
      ],
      "metadata": {
        "colab": {
          "base_uri": "https://localhost:8080/",
          "height": 488
        },
        "id": "HKt2lbxd98aT",
        "outputId": "07a00d9b-e1fb-4997-a4d2-53e2c52adcc2"
      },
      "execution_count": 9,
      "outputs": [
        {
          "output_type": "display_data",
          "data": {
            "text/plain": [
              "<Figure size 1500x500 with 4 Axes>"
            ],
            "image/png": "[encoded data removed]"
          },
          "metadata": {}
        }
      ]
    },
    {
      "cell_type": "markdown",
      "source": [
        "Média da nova amostra:"
      ],
      "metadata": {
        "id": "jrtosc3k_B0P"
      }
    },
    {
      "cell_type": "code",
      "source": [
        "media_nova_amostra = 1200"
      ],
      "metadata": {
        "id": "_AtJtyY8_D4P"
      },
      "execution_count": 10,
      "outputs": []
    },
    {
      "cell_type": "markdown",
      "source": [
        "Média orginal:"
      ],
      "metadata": {
        "id": "uZCt1DUN_SSm"
      }
    },
    {
      "cell_type": "code",
      "source": [
        "dados_vida_lampada['duracao'].mean()"
      ],
      "metadata": {
        "colab": {
          "base_uri": "https://localhost:8080/"
        },
        "id": "TMtQLxlD_D1v",
        "outputId": "4791a0f0-4084-4d5c-eabd-652c9084ae07"
      },
      "execution_count": 11,
      "outputs": [
        {
          "output_type": "execute_result",
          "data": {
            "text/plain": [
              "np.float64(1731.8036029420002)"
            ]
          },
          "metadata": {},
          "execution_count": 11
        }
      ]
    },
    {
      "cell_type": "markdown",
      "source": [
        "Quão distante essa média está do comportamento?\n",
        "\n"
      ],
      "metadata": {
        "id": "GqhDAfrfAXbU"
      }
    },
    {
      "cell_type": "code",
      "source": [
        "plt.hist(media_duracao, bins=30, alpha=0.7, color='purple')\n",
        "plt.title('Duração média de uma Lâmpada')\n",
        "plt.xlabel('Tempo de Vida médio(horas)')\n",
        "plt.annotate('.', xy=(media_nova_amostra, 0), xytext=(media_nova_amostra, 100), fontsize=8,\n",
        "             arrowprops=dict(facecolor='green'))\n",
        "plt.show()"
      ],
      "metadata": {
        "colab": {
          "base_uri": "https://localhost:8080/",
          "height": 473
        },
        "id": "9UsToVTK_Dzo",
        "outputId": "413f6e1d-31be-487e-fc93-8e2b7b73cc96"
      },
      "execution_count": 12,
      "outputs": [
        {
          "output_type": "display_data",
          "data": {
            "text/plain": [
              "<Figure size 640x480 with 1 Axes>"
            ],
            "image/png": "[encoded data removed]"
          },
          "metadata": {}
        }
      ]
    },
    {
      "cell_type": "markdown",
      "source": [
        "Transformando media_duracao em DataFrame:"
      ],
      "metadata": {
        "id": "Jc8zy2QcB9Cg"
      }
    },
    {
      "cell_type": "code",
      "source": [
        "duracao_amostra = pd.DataFrame({'media_duracao': media_duracao})"
      ],
      "metadata": {
        "id": "wm4NJOyR_Dxs"
      },
      "execution_count": 13,
      "outputs": []
    },
    {
      "cell_type": "markdown",
      "source": [
        "Calculando informações:"
      ],
      "metadata": {
        "id": "iH6xwG26CZx2"
      }
    },
    {
      "cell_type": "code",
      "source": [
        "media_das_medias = duracao_amostra['media_duracao'].mean()\n",
        "erro_padrao = duracao_amostra['media_duracao'].std()\n",
        "\n",
        "print('Médias amostrais')\n",
        "print('média:', media_das_medias)\n",
        "print('desvio padrão:', erro_padrao)"
      ],
      "metadata": {
        "colab": {
          "base_uri": "https://localhost:8080/"
        },
        "id": "nOINGx-C_Dvy",
        "outputId": "9f489ac6-ad8c-4c4f-e4bc-af8ab7cba3cf"
      },
      "execution_count": 14,
      "outputs": [
        {
          "output_type": "stream",
          "name": "stdout",
          "text": [
            "Médias amostrais\n",
            "média: 1738.8570998866103\n",
            "desvio padrão: 118.38285189388904\n"
          ]
        }
      ]
    },
    {
      "cell_type": "markdown",
      "source": [
        "Quantos erros:"
      ],
      "metadata": {
        "id": "3Le0fBCyEMaD"
      }
    },
    {
      "cell_type": "code",
      "source": [
        "1731 - 3*erro_padrao"
      ],
      "metadata": {
        "colab": {
          "base_uri": "https://localhost:8080/"
        },
        "id": "4sCbUC2D_Dtw",
        "outputId": "3a24d210-538c-4b83-decc-3b165828603e"
      },
      "execution_count": 15,
      "outputs": [
        {
          "output_type": "execute_result",
          "data": {
            "text/plain": [
              "1375.8514443183328"
            ]
          },
          "metadata": {},
          "execution_count": 15
        }
      ]
    },
    {
      "cell_type": "markdown",
      "source": [
        "Visualizando a quantidade de amostras entre 3EP +- da média"
      ],
      "metadata": {
        "id": "JGP4XAr_EwNt"
      }
    },
    {
      "cell_type": "code",
      "source": [
        "plt.hist(media_duracao, bins=30, alpha=0.7, color='purple')\n",
        "plt.title('Duração média de uma Lâmpada')\n",
        "plt.xlabel('Tempo de Vida médio(horas)')\n",
        "plt.axvline(x=media_das_medias, color = 'yellow')\n",
        "plt.axvline(x=media_das_medias + 3*erro_padrao, color = 'green')\n",
        "plt.axvline(x=media_das_medias - 3*erro_padrao, color = 'green')\n",
        "plt.annotate('.', xy=(media_nova_amostra, 0), xytext=(media_nova_amostra, 100), fontsize=8,\n",
        "             arrowprops=dict(facecolor='green'))\n",
        "plt.show()"
      ],
      "metadata": {
        "colab": {
          "base_uri": "https://localhost:8080/",
          "height": 473
        },
        "id": "omq1EUzJEU45",
        "outputId": "9bdcdc2a-3b2c-44fe-b1ac-653fe838f3b9"
      },
      "execution_count": 16,
      "outputs": [
        {
          "output_type": "display_data",
          "data": {
            "text/plain": [
              "<Figure size 640x480 with 1 Axes>"
            ],
            "image/png": "[encoded data removed]"
          },
          "metadata": {}
        }
      ]
    },
    {
      "cell_type": "markdown",
      "source": [
        "Verificando quantas amostras estão entre dos desvios:"
      ],
      "metadata": {
        "id": "3WnKauSwGqrs"
      }
    },
    {
      "cell_type": "code",
      "source": [
        "qnt_obs = duracao_amostra[(duracao_amostra > media_das_medias - 3*erro_padrao) &\n",
        "                (duracao_amostra < media_das_medias + 3*erro_padrao)]"
      ],
      "metadata": {
        "id": "-OP5IjUpGwkK"
      },
      "execution_count": 17,
      "outputs": []
    },
    {
      "cell_type": "markdown",
      "source": [
        "O quanto essas informações representam do todo:"
      ],
      "metadata": {
        "id": "HNPqIOjHIJi4"
      }
    },
    {
      "cell_type": "code",
      "source": [
        "qnt_obs.count()/duracao_amostra.count()*100"
      ],
      "metadata": {
        "colab": {
          "base_uri": "https://localhost:8080/",
          "height": 115
        },
        "id": "_HatLMboGwiM",
        "outputId": "108fd4c1-e8c6-4416-a786-624b33832081"
      },
      "execution_count": 18,
      "outputs": [
        {
          "output_type": "execute_result",
          "data": {
            "text/plain": [
              "media_duracao    100.0\n",
              "dtype: float64"
            ],
            "text/html": [
              "<div>\n",
              "<style scoped>\n",
              "    .dataframe tbody tr th:only-of-type {\n",
              "        vertical-align: middle;\n",
              "    }\n",
              "\n",
              "    .dataframe tbody tr th {\n",
              "        vertical-align: top;\n",
              "    }\n",
              "\n",
              "    .dataframe thead th {\n",
              "        text-align: right;\n",
              "    }\n",
              "</style>\n",
              "<table border=\"1\" class=\"dataframe\">\n",
              "  <thead>\n",
              "    <tr style=\"text-align: right;\">\n",
              "      <th></th>\n",
              "      <th>0</th>\n",
              "    </tr>\n",
              "  </thead>\n",
              "  <tbody>\n",
              "    <tr>\n",
              "      <th>media_duracao</th>\n",
              "      <td>100.0</td>\n",
              "    </tr>\n",
              "  </tbody>\n",
              "</table>\n",
              "</div><br><label><b>dtype:</b> float64</label>"
            ]
          },
          "metadata": {},
          "execution_count": 18
        }
      ]
    },
    {
      "cell_type": "markdown",
      "source": [
        " Criando a margem de erro para saber se aciona ou nao o controle de qualidade:"
      ],
      "metadata": {
        "id": "amZrfhDqKJEL"
      }
    },
    {
      "cell_type": "code",
      "source": [
        "from scipy import stats"
      ],
      "metadata": {
        "id": "pbKkOAKYGwgZ"
      },
      "execution_count": 19,
      "outputs": []
    },
    {
      "cell_type": "code",
      "source": [
        "# levar em consideração essa amostra\n",
        "dados_vida_lampada\n",
        "\n",
        "# nível de confiança definido\n",
        "confianca = 0.95"
      ],
      "metadata": {
        "id": "OzuOJRTfGwae"
      },
      "execution_count": 20,
      "outputs": []
    },
    {
      "cell_type": "markdown",
      "source": [
        "Informações para calcular o intervalo de confiança:"
      ],
      "metadata": {
        "id": "S26j4ndqLhAq"
      }
    },
    {
      "cell_type": "code",
      "source": [
        "media = dados_vida_lampada['duracao'].mean()\n",
        "desvio_padrao_amostra = dados_vida_lampada['duracao'].std()\n",
        "tamanho_amostra = len(dados_vida_lampada)"
      ],
      "metadata": {
        "id": "NVZezEg8GwYi"
      },
      "execution_count": 21,
      "outputs": []
    },
    {
      "cell_type": "code",
      "source": [
        "intervalo_confianca = stats.norm.interval(confianca, loc = media, scale = desvio_padrao_amostra / np.sqrt(tamanho_amostra))"
      ],
      "metadata": {
        "id": "SltxDgqQL94g"
      },
      "execution_count": 22,
      "outputs": []
    },
    {
      "cell_type": "code",
      "source": [
        "print('IC (95%):', intervalo_confianca)"
      ],
      "metadata": {
        "colab": {
          "base_uri": "https://localhost:8080/"
        },
        "id": "b4VzvakQL92T",
        "outputId": "c84c0449-c576-46ac-ead6-f24793bae483"
      },
      "execution_count": 23,
      "outputs": [
        {
          "output_type": "stream",
          "name": "stdout",
          "text": [
            "IC (95%): (np.float64(1658.3741665835485), np.float64(1805.233039300452))\n"
          ]
        }
      ]
    },
    {
      "cell_type": "markdown",
      "source": [
        "Caso 3: Estabelecer a duração de novas lampadas\n",
        "\n",
        "- Se a duração média é igual ou diferente de 1570 horas\n",
        "\n",
        "h0 = hipótese nula\n",
        "* Duração média é igual a 1570 horas\n",
        "\n",
        "h1 = hipótese alternativa\n",
        "* Duração média ***não*** é igual a 1570 horas\n",
        "\n"
      ],
      "metadata": {
        "id": "1M_XPYaBYw0u"
      }
    },
    {
      "cell_type": "code",
      "source": [
        "lampadas_natalinas = pd.read_csv('/content/experimento_lampadas_natalinas.csv')\n"
      ],
      "metadata": {
        "id": "RI9PIdOQL90U"
      },
      "execution_count": 24,
      "outputs": []
    },
    {
      "cell_type": "code",
      "source": [
        "#Média amostral\n",
        "lampadas_natalinas['duracao'].mean()"
      ],
      "metadata": {
        "id": "KOvFwpnTL9yI",
        "colab": {
          "base_uri": "https://localhost:8080/"
        },
        "outputId": "5a542469-7013-491b-ff1c-0138b2457b0d"
      },
      "execution_count": 25,
      "outputs": [
        {
          "output_type": "execute_result",
          "data": {
            "text/plain": [
              "np.float64(1529.5081310675512)"
            ]
          },
          "metadata": {},
          "execution_count": 25
        }
      ]
    },
    {
      "cell_type": "code",
      "source": [
        "#Informações para a região crítica\n",
        "\n",
        "confianca = 0.95\n",
        "desvio_padrao_populacional = 105\n",
        "tamanho_amostra = len(lampadas_natalinas['duracao'])"
      ],
      "metadata": {
        "id": "1oN1qfejbyCf"
      },
      "execution_count": 26,
      "outputs": []
    },
    {
      "cell_type": "code",
      "source": [
        "#Calculando a margem de erro dentro do intervalo de confiança(REGIÃO CRÍTICA)\n",
        "#Formula do erro padrão\n",
        "\n",
        "intervalo = stats.norm.interval(confianca, loc = 1570, scale = desvio_padrao_populacional / np.sqrt(tamanho_amostra))"
      ],
      "metadata": {
        "id": "It5FPEVqccNN"
      },
      "execution_count": 27,
      "outputs": []
    },
    {
      "cell_type": "code",
      "source": [
        "print('Intervalo de confiançar (95%): ', intervalo)\n",
        "#Hipótese nula rejeitada (1529), pois não está dentro do IC (1549 - 1590)"
      ],
      "metadata": {
        "colab": {
          "base_uri": "https://localhost:8080/"
        },
        "id": "MEmXsFGqc5Ca",
        "outputId": "eba9364c-6fda-43c8-afe1-4d30e158fec8"
      },
      "execution_count": 28,
      "outputs": [
        {
          "output_type": "stream",
          "name": "stdout",
          "text": [
            "Intervalo de confiançar (95%):  (np.float64(1549.4203781623294), np.float64(1590.5796218376706))\n"
          ]
        }
      ]
    },
    {
      "cell_type": "markdown",
      "source": [
        "Calculando o erro em cima da nossa decisão:\n",
        "- Suponhamos que estamos no cenário errado, o cenário em que H₀ é verdadeira, ou seja, as lâmpadas estão durando 1.570 horas, em média."
      ],
      "metadata": {
        "id": "Z6R-HKg-dvFu"
      }
    },
    {
      "cell_type": "code",
      "source": [
        "#Importando o teste Z do statsmodels\n",
        "from statsmodels.stats.weightstats import ztest"
      ],
      "metadata": {
        "id": "ts83qf62c5Au"
      },
      "execution_count": 29,
      "outputs": []
    },
    {
      "cell_type": "code",
      "source": [
        "#Executando o teste Z\n",
        "\n",
        "stats, p_valor = ztest(x1 = lampadas_natalinas['duracao'], value = 1570, alternative = 'two-sided')\n"
      ],
      "metadata": {
        "id": "l9H21UHAc48p"
      },
      "execution_count": 30,
      "outputs": []
    },
    {
      "cell_type": "code",
      "source": [
        "#Média amostral\n",
        "lampadas_natalinas['duracao'].mean()"
      ],
      "metadata": {
        "colab": {
          "base_uri": "https://localhost:8080/"
        },
        "id": "VhNPkJG5i35P",
        "outputId": "cc2fad77-e38d-4074-e808-d2ebbafe6d52"
      },
      "execution_count": 31,
      "outputs": [
        {
          "output_type": "execute_result",
          "data": {
            "text/plain": [
              "np.float64(1529.5081310675512)"
            ]
          },
          "metadata": {},
          "execution_count": 31
        }
      ]
    },
    {
      "cell_type": "code",
      "source": [
        "#Exibindo os resultados\n",
        "\n",
        "print(p_valor)"
      ],
      "metadata": {
        "colab": {
          "base_uri": "https://localhost:8080/"
        },
        "id": "PBWtuTqti_oI",
        "outputId": "460b6ce3-554c-4b70-ec21-5d0275ffcdfc"
      },
      "execution_count": 32,
      "outputs": [
        {
          "output_type": "stream",
          "name": "stdout",
          "text": [
            "0.0\n"
          ]
        }
      ]
    },
    {
      "cell_type": "markdown",
      "source": [
        "Caso 4: Nível de serviço (SLA)\n",
        "\n",
        "- Será que o tempo média de resposta de suporte técnico é menor que 30 minutos?\n",
        "\n",
        "h0 : Tempo médio do surpote é igual a 30 minutos.\n",
        "\n",
        "h1 : Tempo médio é menor que 30 minutos.\n",
        "\n",
        "- Quais são os tempos de suporte coletados pela equipe?"
      ],
      "metadata": {
        "id": "pWoG24sJkrY5"
      }
    },
    {
      "cell_type": "code",
      "source": [
        "# Tempo de resposta em minutos para 25 solicitações de suporte\n",
        "tempo_resposta = [28, 32, 29, 31, 30, 33, 28, 30, 31, 29,\n",
        "                  30, 32, 29, 31, 30, 33, 28, 30, 31, 29,\n",
        "                  30, 32, 24, 29, 30]"
      ],
      "metadata": {
        "id": "vAGhSBjph0Jg"
      },
      "execution_count": 33,
      "outputs": []
    },
    {
      "cell_type": "code",
      "source": [
        "# Média coletada do tempo\n",
        "np.mean(tempo_resposta)\n"
      ],
      "metadata": {
        "colab": {
          "base_uri": "https://localhost:8080/"
        },
        "id": "fnOrcbuBh0HJ",
        "outputId": "90e17f68-fe20-4c85-f681-3977190f9afa"
      },
      "execution_count": 36,
      "outputs": [
        {
          "output_type": "execute_result",
          "data": {
            "text/plain": [
              "np.float64(29.96)"
            ]
          },
          "metadata": {},
          "execution_count": 36
        }
      ]
    },
    {
      "cell_type": "markdown",
      "source": [
        "Realizando um teste para saber se 29.96 é válida ou nao"
      ],
      "metadata": {
        "id": "cl5LZoQFmf14"
      }
    },
    {
      "cell_type": "code",
      "source": [
        "# importando tttes_1samp\n",
        "from scipy.stats import ttest_1samp"
      ],
      "metadata": {
        "id": "Ncr12Z7Ah0FJ"
      },
      "execution_count": 37,
      "outputs": []
    },
    {
      "cell_type": "code",
      "source": [
        "# Realiza o teste t unilateral para um amostra\n",
        "stats, p_valor = ttest_1samp(tempo_resposta, 30, alternative= \"less\")\n",
        "\n",
        "\n"
      ],
      "metadata": {
        "id": "uNCBcQLFh0DA"
      },
      "execution_count": 38,
      "outputs": []
    },
    {
      "cell_type": "code",
      "source": [
        "print(p_valor)"
      ],
      "metadata": {
        "colab": {
          "base_uri": "https://localhost:8080/"
        },
        "id": "VHx2AcDDh0BP",
        "outputId": "cd32800c-a345-434d-f98e-8c6631a9d16f"
      },
      "execution_count": 39,
      "outputs": [
        {
          "output_type": "stream",
          "name": "stdout",
          "text": [
            "0.4585970095667924\n"
          ]
        }
      ]
    },
    {
      "cell_type": "markdown",
      "source": [
        "Interpretando o Teste T"
      ],
      "metadata": {
        "id": "1wuqpp2epxCz"
      }
    },
    {
      "cell_type": "code",
      "source": [
        "nivel_significancia = 0.05\n",
        "\n",
        "if p_valor < nivel_significancia:\n",
        "  print('Rejeitar H0')\n",
        "else:\n",
        "  print('Aceitar H0')"
      ],
      "metadata": {
        "colab": {
          "base_uri": "https://localhost:8080/"
        },
        "id": "pWYZrgUDhz_L",
        "outputId": "121f7766-7960-4e08-b02e-662476b7f794"
      },
      "execution_count": 40,
      "outputs": [
        {
          "output_type": "stream",
          "name": "stdout",
          "text": [
            "Aceitar H0\n"
          ]
        }
      ]
    },
    {
      "cell_type": "markdown",
      "source": [
        "Caso 5: Vendas VS Anúncio - Comparando duas amostras\n",
        "\n",
        "- A propaganda produz efeito positivo nas vendas?\n"
      ],
      "metadata": {
        "id": "ZWwP16s5qd63"
      }
    },
    {
      "cell_type": "code",
      "source": [
        "vendas_com_propaganda = [329.80, 291.70, 338.86, 391.38, 285.95, 285.95, 394.75, 346.05, 271.83, 332.55, 272.19, 272.06, 314.52, 185.20, 196.50, 266.26, 239.23, 318.85, 245.52, 215.26, 387.94, 286.45, 304.05, 214.52, 267.34, 306.66, 230.94, 322.54, 263.96, 282.50, 263.90, 411.14, 299.19, 236.54, 349.35, 226.75, 312.53, 182.42, 220.31, 311.81, 344.31, 310.28, 293.66, 281.93, 211.29, 256.81, 272.36, 363.43, 320.62, 194.22]"
      ],
      "metadata": {
        "id": "5jGFw7IMhz9M"
      },
      "execution_count": 41,
      "outputs": []
    },
    {
      "cell_type": "code",
      "source": [
        "vendas_sem_propaganda = [304.44, 261.89, 244.38, 321.70, 346.86, 348.08, 234.65, 266.45, 304.88, 343.53, 256.25, 273.86, 218.62, 213.23, 333.75, 366.37, 280.68, 345.21, 306.70, 246.29, 306.68, 377.28, 282.85, 378.88, 127.82, 334.31, 290.22, 267.06, 290.51, 165.74, 271.82, 306.43, 373.67, 253.90, 236.49, 254.89, 339.92, 304.73, 253.21, 315.80, 292.80, 343.12, 242.88, 265.34, 261.47, 197.19, 302.77, 300.66, 285.31, 270.92]"
      ],
      "metadata": {
        "id": "L4xOHdAGhz6_"
      },
      "execution_count": 42,
      "outputs": []
    },
    {
      "cell_type": "code",
      "source": [
        "# Média com\n",
        "print(np.mean(vendas_com_propaganda))\n",
        "\n",
        "# Média sem\n",
        "print(np.mean(vendas_sem_propaganda))"
      ],
      "metadata": {
        "colab": {
          "base_uri": "https://localhost:8080/"
        },
        "id": "5hiQdMERqMXt",
        "outputId": "f92bfca0-0db5-48a1-fc90-702420229119"
      },
      "execution_count": 44,
      "outputs": [
        {
          "output_type": "stream",
          "name": "stdout",
          "text": [
            "286.4832\n",
            "286.2498\n"
          ]
        }
      ]
    },
    {
      "cell_type": "code",
      "source": [
        "# Criar histogramas\n",
        "plt.hist(vendas_com_propaganda, color = \"green\", alpha = 0.5, label = \"Com propaganda\")\n",
        "plt.hist(vendas_sem_propaganda, color = \"blue\", alpha = 0.5, label = \"Sem propaganda\")\n",
        "# Adicionar rótulos e título\n",
        "plt.xlabel('Vendas')\n",
        "plt.ylabel('Frequência')\n",
        "plt.title('Histograma das Vendas com e sem Propaganda')\n",
        "plt.legend()\n",
        "plt.show()"
      ],
      "metadata": {
        "colab": {
          "base_uri": "https://localhost:8080/",
          "height": 472
        },
        "id": "jF0PohAkqMJj",
        "outputId": "2645424f-ee5f-4b1b-9b9d-2e88a6630ccb"
      },
      "execution_count": 46,
      "outputs": [
        {
          "output_type": "display_data",
          "data": {
            "text/plain": [
              "<Figure size 640x480 with 1 Axes>"
            ],
            "image/png": "[encoded data removed]"
          },
          "metadata": {}
        }
      ]
    },
    {
      "cell_type": "markdown",
      "source": [
        "Hipóteses desse teste de amostras independentes:\n",
        "\n",
        "H0: media sem = media com\n",
        "\n",
        "H1: media sem < media com"
      ],
      "metadata": {
        "id": "JYYBXWovvDG-"
      }
    },
    {
      "cell_type": "code",
      "source": [
        "# Teste T para amostrais independentes (ttest_ind)\n",
        "from scipy.stats import ttest_ind"
      ],
      "metadata": {
        "id": "EaA49YszqMD-"
      },
      "execution_count": 47,
      "outputs": []
    },
    {
      "cell_type": "code",
      "source": [
        "# Aplicação do teste t de Student para amostras independentes\n",
        "stats, p_valor = ttest_ind(vendas_com_propaganda, vendas_sem_propaganda, alternative= \"greater\")"
      ],
      "metadata": {
        "id": "eTRWm4dWr2wQ"
      },
      "execution_count": 48,
      "outputs": []
    },
    {
      "cell_type": "code",
      "source": [
        "print(p_valor)"
      ],
      "metadata": {
        "colab": {
          "base_uri": "https://localhost:8080/"
        },
        "id": "SUqeMeksr2ru",
        "outputId": "d2423629-4c89-4471-aab2-62e1c3fbb040"
      },
      "execution_count": 49,
      "outputs": [
        {
          "output_type": "stream",
          "name": "stdout",
          "text": [
            "0.49145652153110797\n"
          ]
        }
      ]
    },
    {
      "cell_type": "code",
      "source": [
        "alpha = 0.05\n",
        "if p_valor < alpha:\n",
        "    print(\"Rejeitar a hipótese nula: Há evidências de que a propaganda tem um efeito positivo nas vendas.\")\n",
        "else:\n",
        "    print(\"Não rejeita hipótese nula: Não há evidências suficientes para afirmar um efeito positivo nas vendas devido à propaganda.\")"
      ],
      "metadata": {
        "colab": {
          "base_uri": "https://localhost:8080/"
        },
        "id": "IlFOy6yKr2pL",
        "outputId": "2e667885-8235-40f2-fefc-58b4bf561931"
      },
      "execution_count": 50,
      "outputs": [
        {
          "output_type": "stream",
          "name": "stdout",
          "text": [
            "Não rejeita hipótese nula: Não há evidências suficientes para afirmar um efeito positivo nas vendas devido à propaganda.\n"
          ]
        }
      ]
    },
    {
      "cell_type": "code",
      "source": [],
      "metadata": {
        "id": "yTDmHRCkvq8g"
      },
      "execution_count": null,
      "outputs": []
    }
  ]
}